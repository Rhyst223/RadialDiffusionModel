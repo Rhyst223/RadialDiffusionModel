{
 "cells": [
  {
   "cell_type": "code",
   "execution_count": 1,
   "metadata": {},
   "outputs": [],
   "source": [
    "import warnings\n",
    "warnings.filterwarnings(\"ignore\")\n",
    "from ensemble_functions import *\n",
    "import numpy as np\n",
    "import argparse\n",
    "import matplotlib.pyplot as plt\n",
    "from matplotlib.animation import FuncAnimation"
   ]
  },
  {
   "cell_type": "code",
   "execution_count": 4,
   "metadata": {},
   "outputs": [],
   "source": [
    "#Input cell\n",
    "\n",
    "#Timestep ant number of timesteps\n",
    "dt = 1\n",
    "nt = 36000\n",
    "#L discretisation\n",
    "dl = 0.1 \n",
    "Lmin = 2.5\n",
    "Lmax = 6\n",
    "\n",
    "L = np.arange(Lmin,Lmax,dl)\n",
    "    \n",
    "#Initial PSD, arguments are in my paper (trying to find a link to the functional form with)\n",
    "#a better description of the inputs!\n",
    "f = PSD(L,A=9*10**4, B=0.05, mu=4, sig=0.38, gamma=5)\n",
    "\n",
    "#Kp value for Ozeke DLL\n",
    "kp = 5\n",
    "\n",
    "#What timestep to return PSD values\n",
    "f_return = 3600 #hourly"
   ]
  },
  {
   "cell_type": "code",
   "execution_count": 5,
   "metadata": {},
   "outputs": [],
   "source": [
    "#Boundary condition inputs\n",
    "#If you want just default (values of f at each endpoint)\n",
    "#lbc = None\n",
    "#rbc = None\n",
    "\n",
    "#Or if you want the a particular custom value at each timestep\n",
    "lbc = [0]*nt\n",
    "rbc = [0]*nt\n",
    "\n",
    "#Or if you want custom values at each time step\n",
    "#lbc = list(np.sin(something))\n",
    "#rbc = list(np.sin(something))\n",
    "\n",
    "#Type of BC\n",
    "ltype = 'd'\n",
    "rtype = 'n'"
   ]
  },
  {
   "cell_type": "code",
   "execution_count": 6,
   "metadata": {},
   "outputs": [],
   "source": [
    "#Ozeke 2014 DLL in SECONDS, for timesteps one more than you need\n",
    "D = [Diff_Coeff(L,kp,full=False)/86400]*int(nt+1)\n",
    "\n",
    "#Source term (for simple experiments I haven't used, but we might want to in the project!)\n",
    "Q = [np.zeros(len(L))] *int(nt+1)\n",
    "\n",
    "#Run diffusion model\n",
    "final_psd, psd_array = Crank_Nicolson(dt,nt,dl,L,f,D,Q,lbc=lbc,rbc=rbc,ltype=ltype,rtype=rtype,f_return=f_return)"
   ]
  },
  {
   "cell_type": "code",
   "execution_count": 19,
   "metadata": {},
   "outputs": [
    {
     "data": {
      "text/plain": [
       "<matplotlib.colorbar.Colorbar at 0x121c08d50>"
      ]
     },
     "execution_count": 19,
     "metadata": {},
     "output_type": "execute_result"
    },
    {
     "data": {
      "image/png": "[encoded data removed]",
      "text/plain": [
       "<Figure size 432x288 with 2 Axes>"
      ]
     },
     "metadata": {
      "needs_background": "light"
     },
     "output_type": "display_data"
    }
   ],
   "source": [
    "#Heatmap example\n",
    "X,Y = np.meshgrid(L,np.arange(0,nt+f_return,f_return)/3600)\n",
    "plt.pcolormesh(X,Y,np.array(psd_array),cmap='pink_r')\n",
    "plt.xlabel('L*')\n",
    "plt.ylabel('Time (hours)')\n",
    "plt.colorbar(label='PSD')"
   ]
  },
  {
   "cell_type": "code",
   "execution_count": null,
   "metadata": {},
   "outputs": [],
   "source": []
  },
  {
   "cell_type": "code",
   "execution_count": null,
   "metadata": {},
   "outputs": [],
   "source": []
  }
 ],
 "metadata": {
  "kernelspec": {
   "display_name": "Python 3",
   "language": "python",
   "name": "python3"
  },
  "language_info": {
   "codemirror_mode": {
    "name": "ipython",
    "version": 3
   },
   "file_extension": ".py",
   "mimetype": "text/x-python",
   "name": "python",
   "nbconvert_exporter": "python",
   "pygments_lexer": "ipython3",
   "version": "3.7.7"
  }
 },
 "nbformat": 4,
 "nbformat_minor": 2
}
